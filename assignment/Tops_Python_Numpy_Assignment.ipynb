{
  "cells": [
    {
      "cell_type": "markdown",
      "metadata": {
        "id": "8k_GqrXwnDsa"
      },
      "source": [
        "#**NumPy Assignment**"
      ]
    },
    {
      "cell_type": "markdown",
      "metadata": {
        "id": "_v962OnPuN4X"
      },
      "source": [
        "##1) How to Creating a 3x3 Identity Matrix with Float Data Type?\n"
      ]
    },
    {
      "cell_type": "code",
      "execution_count": null,
      "metadata": {
        "colab": {
          "base_uri": "https://localhost:8080/"
        },
        "id": "rMVDLvOauNof",
        "outputId": "6ed7a270-9b3f-4aa1-c8aa-7edb4639a7cc"
      },
      "outputs": [
        {
          "data": {
            "text/plain": [
              "array([[0., 1., 2.],\n",
              "       [3., 4., 5.],\n",
              "       [6., 7., 8.]])"
            ]
          },
          "execution_count": 4,
          "metadata": {},
          "output_type": "execute_result"
        }
      ],
      "source": [
        "import numpy as np\n",
        "data = np.arange(9.0).reshape(3,3)\n",
        "data"
      ]
    },
    {
      "cell_type": "markdown",
      "metadata": {
        "id": "EuOiJpsvuwoI"
      },
      "source": [
        "##2) Create a 1D Array with Random Values between 0 and 1.\n"
      ]
    },
    {
      "cell_type": "code",
      "execution_count": null,
      "metadata": {
        "colab": {
          "base_uri": "https://localhost:8080/"
        },
        "id": "5_LhrIvru2Pk",
        "outputId": "b6140eae-2004-4940-b0fa-2d5d11ca070a"
      },
      "outputs": [
        {
          "data": {
            "text/plain": [
              "array([0.42381616, 0.7541934 , 0.8399574 , 0.40920975, 0.73663129,\n",
              "       0.82713102, 0.32714859, 0.6868585 , 0.46610685, 0.06186342])"
            ]
          },
          "execution_count": 7,
          "metadata": {},
          "output_type": "execute_result"
        }
      ],
      "source": [
        "data=np.random.random(10)\n",
        "data"
      ]
    },
    {
      "cell_type": "markdown",
      "metadata": {
        "id": "IkVwdxDovMni"
      },
      "source": [
        "## 3) Create a 2D Array with Random Integer Values.\n"
      ]
    },
    {
      "cell_type": "code",
      "execution_count": null,
      "metadata": {
        "colab": {
          "base_uri": "https://localhost:8080/"
        },
        "id": "0eTN49F0vUZv",
        "outputId": "07642b10-dd67-4b03-d3a0-60d1fc3f6026"
      },
      "outputs": [
        {
          "data": {
            "text/plain": [
              "array([[ 1, 11,  2,  1,  8],\n",
              "       [ 0, 10,  5,  4,  6],\n",
              "       [11,  8,  5,  1,  4],\n",
              "       [ 9,  3,  6,  8,  2]])"
            ]
          },
          "execution_count": 15,
          "metadata": {},
          "output_type": "execute_result"
        }
      ],
      "source": [
        "np.random.randint(0,12,size=(4,5))"
      ]
    },
    {
      "cell_type": "markdown",
      "metadata": {
        "id": "v-zrrCBkxTsP"
      },
      "source": [
        "## 4) Creating an Array Using a Custom Function"
      ]
    },
    {
      "cell_type": "code",
      "execution_count": null,
      "metadata": {
        "colab": {
          "base_uri": "https://localhost:8080/"
        },
        "id": "8GxkNY25xjOG",
        "outputId": "4651d940-3c25-47d9-fa1d-53c2d907bb38"
      },
      "outputs": [
        {
          "name": "stdout",
          "output_type": "stream",
          "text": [
            "starting point :1\n",
            "ending point:- 5\n"
          ]
        },
        {
          "data": {
            "text/plain": [
              "array([1, 2, 3, 4])"
            ]
          },
          "execution_count": 16,
          "metadata": {},
          "output_type": "execute_result"
        }
      ],
      "source": [
        "def create_Array(a,b):\n",
        "  B = np.arange(a,b)\n",
        "  return B\n",
        "\n",
        "input_A = int(input(\"starting point :\"))\n",
        "input_b = int(input(\"ending point:- \"))\n",
        "\n",
        "create_Array(input_A,input_b)\n"
      ]
    },
    {
      "cell_type": "markdown",
      "metadata": {
        "id": "p0sCLPEly851"
      },
      "source": [
        "## 5) Reshaping a 1D Array into a 2D Array\n"
      ]
    },
    {
      "cell_type": "code",
      "execution_count": null,
      "metadata": {
        "colab": {
          "base_uri": "https://localhost:8080/"
        },
        "id": "aQVQwX2_zEBO",
        "outputId": "d6c314fc-56e5-4766-d6a2-4f0859f4a628"
      },
      "outputs": [
        {
          "data": {
            "text/plain": [
              "array([[0, 1, 2],\n",
              "       [3, 4, 5]])"
            ]
          },
          "execution_count": 18,
          "metadata": {},
          "output_type": "execute_result"
        }
      ],
      "source": [
        "oneD_array = np.arange(6)\n",
        "oneD_array\n",
        "\n",
        "Two_D_Array_convert = oneD_array.reshape(2,3)\n",
        "Two_D_Array_convert"
      ]
    },
    {
      "cell_type": "markdown",
      "metadata": {
        "id": "sxWBxNERzwHu"
      },
      "source": [
        "## 6) How to Creating a 3x3 Array of Ones?\n"
      ]
    },
    {
      "cell_type": "code",
      "execution_count": null,
      "metadata": {
        "colab": {
          "base_uri": "https://localhost:8080/"
        },
        "id": "aWduYLbTz1Nv",
        "outputId": "45cd7ee6-1058-4f17-b627-05353e6cf28d"
      },
      "outputs": [
        {
          "data": {
            "text/plain": [
              "array([[1., 1., 1.],\n",
              "       [1., 1., 1.],\n",
              "       [1., 1., 1.]])"
            ]
          },
          "execution_count": 20,
          "metadata": {},
          "output_type": "execute_result"
        }
      ],
      "source": [
        "Three_by_Three = np.ones(9).reshape(3,3)\n",
        "Three_by_Three"
      ]
    },
    {
      "cell_type": "markdown",
      "metadata": {
        "id": "2RdQEwle0YcV"
      },
      "source": [
        "## 7)  How to get the common items between two pythons NumPy?"
      ]
    },
    {
      "cell_type": "code",
      "execution_count": null,
      "metadata": {
        "colab": {
          "base_uri": "https://localhost:8080/"
        },
        "id": "DnU2mupF0XwP",
        "outputId": "61acc7e5-ab14-4235-f72f-7c72b5d08f67"
      },
      "outputs": [
        {
          "data": {
            "text/plain": [
              "array([2, 4])"
            ]
          },
          "execution_count": 24,
          "metadata": {},
          "output_type": "execute_result"
        }
      ],
      "source": [
        "a = np. array ([1,2,3,2,3,4,3,4,5,6])\n",
        "b = np. array ([7,2,10,2,7,4,9,4,9,8])\n",
        "\n",
        "Intersect = np.intersect1d(a,b)\n",
        "Intersect"
      ]
    },
    {
      "cell_type": "markdown",
      "metadata": {
        "id": "8-RN1FbS1K35"
      },
      "source": [
        "## 8) From array a remove all items present in array b"
      ]
    },
    {
      "cell_type": "code",
      "execution_count": null,
      "metadata": {
        "colab": {
          "base_uri": "https://localhost:8080/"
        },
        "id": "ARY8hU-v1YEy",
        "outputId": "ae1d8ea1-9c00-48a6-98d1-9d3902096bf3"
      },
      "outputs": [
        {
          "data": {
            "text/plain": [
              "array([1, 2, 3, 4])"
            ]
          },
          "execution_count": 27,
          "metadata": {},
          "output_type": "execute_result"
        }
      ],
      "source": [
        "a = np. array ([1,2,3,4,5])\n",
        "b = np. array ([5,6,7,8,9])\n",
        "\n",
        "result = np.setdiff1d(a,b)\n",
        "result"
      ]
    },
    {
      "cell_type": "markdown",
      "metadata": {
        "id": "uhQ7_rqS16nQ"
      },
      "source": [
        "## 9. Limit the number of items printed in python NumPy array a to a maximum of 6 elements.\n"
      ]
    },
    {
      "cell_type": "code",
      "execution_count": null,
      "metadata": {
        "colab": {
          "base_uri": "https://localhost:8080/"
        },
        "id": "RXwWZKsp2NxA",
        "outputId": "7c850a3b-51f3-4781-d3c0-a9e520b5e126"
      },
      "outputs": [
        {
          "data": {
            "text/plain": [
              "array([ 0,  1,  2, ..., 12, 13, 14])"
            ]
          },
          "execution_count": 30,
          "metadata": {},
          "output_type": "execute_result"
        }
      ],
      "source": [
        "a = np. arange (15)\n",
        "np.set_printoptions(threshold=6)\n",
        "a"
      ]
    },
    {
      "cell_type": "markdown",
      "metadata": {
        "id": "WUVDVG2L2maP"
      },
      "source": [
        "## 10) Drop all nan values from a 1D NumPy"
      ]
    },
    {
      "cell_type": "code",
      "execution_count": null,
      "metadata": {
        "colab": {
          "base_uri": "https://localhost:8080/"
        },
        "id": "sM6MJyh12rlX",
        "outputId": "9e16fb80-71ef-4b0f-88b7-5368b094ace8"
      },
      "outputs": [
        {
          "data": {
            "text/plain": [
              "array([1., 2., 3., 5., 6., 7.])"
            ]
          },
          "execution_count": 33,
          "metadata": {},
          "output_type": "execute_result"
        }
      ],
      "source": [
        "Np=np.array ([1,2,3, np.nan,5,6,7, np.nan])\n",
        "\n",
        "clean_array = Np[~np.isnan(Np)]\n",
        "clean_array\n"
      ]
    },
    {
      "cell_type": "markdown",
      "metadata": {
        "id": "L0LPVuPu3b7P"
      },
      "source": [
        "## 11) Question: Create a 1D NumPy array of the first 20 natural numbers and a 2D NumPy array of shape (4, 5) with values ranging from 1 to 20.\n"
      ]
    },
    {
      "cell_type": "code",
      "execution_count": null,
      "metadata": {
        "colab": {
          "base_uri": "https://localhost:8080/"
        },
        "id": "MtHqYewj3nAd",
        "outputId": "df578303-23ba-4631-cd21-52608886246e"
      },
      "outputs": [
        {
          "data": {
            "text/plain": [
              "array([[ 1,  2,  3,  4,  5],\n",
              "       [ 6,  7,  8,  9, 10],\n",
              "       [11, 12, 13, 14, 15],\n",
              "       [16, 17, 18, 19, 20]])"
            ]
          },
          "execution_count": 37,
          "metadata": {},
          "output_type": "execute_result"
        }
      ],
      "source": [
        "q1 = np.arange(1,21)\n",
        "q1 # 1D array\n",
        "\n",
        "final_resullt = q1.reshape(4,5)\n",
        "final_resullt"
      ]
    },
    {
      "cell_type": "markdown",
      "metadata": {
        "id": "KbLe3s7C4RH1"
      },
      "source": [
        "## 12) Given a 3D NumPy array of shape (2, 3, 4), find its shape, size,number of dimensions, and data type. Change its data type to float64 and verify the change.\n"
      ]
    },
    {
      "cell_type": "code",
      "execution_count": null,
      "metadata": {
        "colab": {
          "base_uri": "https://localhost:8080/"
        },
        "id": "Tyha4zfj5AL_",
        "outputId": "4163bfed-488a-49d4-aa3f-1f2e46060d62"
      },
      "outputs": [
        {
          "name": "stdout",
          "output_type": "stream",
          "text": [
            "\n",
            "Shape of array: (2, 3, 4)\n",
            "Size of array (total elements): 24\n",
            "Number of dimensions: 3\n",
            "Data type before conversion: int64\n"
          ]
        }
      ],
      "source": [
        "array_3d = np.random.randint(1, 101, size=(2, 3, 4))\n",
        "array_3d\n",
        "\n",
        "# find its shape, size, number of dimensions, and data type\n",
        "print(\"\\nShape of array:\", array_3d.shape)\n",
        "print(\"Size of array (total elements):\", array_3d.size)\n",
        "print(\"Number of dimensions:\", array_3d.ndim)\n",
        "print(\"Data type before conversion:\", array_3d.dtype)"
      ]
    },
    {
      "cell_type": "markdown",
      "metadata": {
        "id": "zqzI4BT76ntF"
      },
      "source": [
        "## 13) Reshape a 1D array of 12 elements into a 3x4 2D array and then flatten it back into a 1D array using ravel (). Verify that the flattened array matches the original.\n"
      ]
    },
    {
      "cell_type": "code",
      "execution_count": null,
      "metadata": {
        "colab": {
          "base_uri": "https://localhost:8080/"
        },
        "id": "hvV2qd2n6znn",
        "outputId": "4e6f3320-9cd5-48f8-b3e3-4e70f0b9b414"
      },
      "outputs": [
        {
          "data": {
            "text/plain": [
              "array([ 1,  2,  3, ..., 10, 11, 12])"
            ]
          },
          "execution_count": 51,
          "metadata": {},
          "output_type": "execute_result"
        }
      ],
      "source": [
        "d1 = np.arange(1,13)\n",
        "d1 # 1d array\n",
        "\n",
        "#reshape it into 3 x 4\n",
        "d2 = d1.reshape(3,4)\n",
        "\n",
        "#use ravel to flatten 2d array into 1d :-\n",
        "d1 = d2.ravel()\n",
        "d1"
      ]
    },
    {
      "cell_type": "markdown",
      "metadata": {
        "id": "dGF2pbRi8pnF"
      },
      "source": [
        "## 14) Given two arrays, a = np. array ([1, 2, 3]) and b = np. array ([4,5, 6]), perform element-wise addition, subtraction, multiplication, and division. Explain the behavior when dividing by zero."
      ]
    },
    {
      "cell_type": "code",
      "execution_count": null,
      "metadata": {
        "colab": {
          "base_uri": "https://localhost:8080/"
        },
        "id": "lCElgy1184GF",
        "outputId": "df08089c-d5bb-4c1d-9c84-0db32c741484"
      },
      "outputs": [
        {
          "name": "stdout",
          "output_type": "stream",
          "text": [
            "[5 7 9]\n",
            "[-3 -3 -3]\n",
            "[ 4 10 18]\n",
            "[0 0 0]\n"
          ]
        }
      ],
      "source": [
        "a = np. array ([1, 2, 3])\n",
        "b = np. array ([4,5, 6])\n",
        "a,b\n",
        "print(a+b)\n",
        "print(a-b)\n",
        "print(a*b)\n",
        "print(a//b) ## bcz when we use floor divison they consider smallests value from the result"
      ]
    },
    {
      "cell_type": "markdown",
      "metadata": {
        "id": "SiEs6xuL9rko"
      },
      "source": [
        "## 15) Create a 2D array of shape (3, 1) and a 1D array of length 3. Perform element-wise addition using broadcasting. Explain how broadcasting rules apply in this scenario.\n"
      ]
    },
    {
      "cell_type": "code",
      "execution_count": null,
      "metadata": {
        "colab": {
          "base_uri": "https://localhost:8080/"
        },
        "id": "j565uUwp91qu",
        "outputId": "73efbdf3-13ed-41b4-e60a-dfbfbf150ffe"
      },
      "outputs": [
        {
          "name": "stdout",
          "output_type": "stream",
          "text": [
            "[[1]\n",
            " [2]\n",
            " [3]]\n",
            "[12 24 23]\n",
            "\n",
            "\n",
            "[[13 25 24]\n",
            " [14 26 25]\n",
            " [15 27 26]]\n"
          ]
        }
      ],
      "source": [
        "a = np.arange(1,4).reshape(3,1)\n",
        "b=np.array([12,24,23])\n",
        "a,b\n",
        "#print(\"B :- \", b)\n",
        "print(a)\n",
        "print(b)\n",
        "print()\n",
        "print()\n",
        "print(a+b)\n",
        "\n"
      ]
    },
    {
      "cell_type": "markdown",
      "metadata": {
        "id": "I8A554rKAhkf"
      },
      "source": [
        "## 16) Question: Generate a random 2D array of integers between 0 and 10. Useconditional operators to create a Boolean mask identifying elements greater than 5. Replace all elements greater than 5 with the value 5.\n"
      ]
    },
    {
      "cell_type": "code",
      "execution_count": null,
      "metadata": {
        "colab": {
          "base_uri": "https://localhost:8080/"
        },
        "id": "lYRqpRDk-p0l",
        "outputId": "b79ac587-01ef-4089-c24d-17bd1236ccdc"
      },
      "outputs": [
        {
          "name": "stdout",
          "output_type": "stream",
          "text": [
            "Original Array:\n",
            " [[ 9  6  0  5  9]\n",
            " [ 6  1  4  3 10]\n",
            " [ 1  5  8  3  2]\n",
            " [ 1  0  5  3  2]]\n",
            "\n",
            "Boolean Mask (Elements > 5):\n",
            " [[ True  True False False  True]\n",
            " [ True False False False  True]\n",
            " [False False  True False False]\n",
            " [False False False False False]]\n",
            "\n",
            "Array After Replacement:\n",
            " [[5 5 0 5 5]\n",
            " [5 1 4 3 5]\n",
            " [1 5 5 3 2]\n",
            " [1 0 5 3 2]]\n"
          ]
        }
      ],
      "source": [
        "import numpy as np\n",
        "\n",
        "\n",
        "array_2d = np.random.randint(0, 11, size=(4, 5))\n",
        "print(\"Original Array:\\n\", array_2d)\n",
        "\n",
        "mask = array_2d > 5\n",
        "print(\"\\nBoolean Mask (Elements > 5):\\n\", mask)\n",
        "\n",
        "\n",
        "array_2d[mask] = 5\n",
        "print(\"\\nArray After Replacement:\\n\", array_2d)\n"
      ]
    },
    {
      "cell_type": "markdown",
      "metadata": {
        "id": "fh5VdnUm_2vp"
      },
      "source": [
        "##17) Given a 4x4 array of random integers, use indexing and slicing to extract:\n",
        "\n",
        "\n",
        "1.   The entire second row\n",
        "2.   The last column\n",
        "3.   The subarray consisting of the first two rows and first two columns\n"
      ]
    },
    {
      "cell_type": "code",
      "execution_count": null,
      "metadata": {
        "colab": {
          "base_uri": "https://localhost:8080/"
        },
        "id": "bdV-NZvTAfYU",
        "outputId": "d2b71832-af9f-4528-ab66-9191f6a32056"
      },
      "outputs": [
        {
          "name": "stdout",
          "output_type": "stream",
          "text": [
            "[[ 0  1  2  3]\n",
            " [ 4  5  6  7]\n",
            " [ 8  9 10 11]\n",
            " [12 13 14 15]]\n",
            "[[4 5 6 7]]\n",
            "[[ 3]\n",
            " [ 7]\n",
            " [11]\n",
            " [15]]\n"
          ]
        },
        {
          "data": {
            "text/plain": [
              "array([[0, 1],\n",
              "       [4, 5]])"
            ]
          },
          "execution_count": 15,
          "metadata": {},
          "output_type": "execute_result"
        }
      ],
      "source": [
        "array = np.arange(16).reshape(4,4)\n",
        "print(array)\n",
        "\n",
        "# The entire secone row\n",
        "esr = array[1:2:,::]\n",
        "print(esr)\n",
        "\n",
        "# The last column\n",
        "lc = array[::,3::]\n",
        "print(lc)\n",
        "\n",
        "# The subarray consisting of the first two rows and first two columns\n",
        "subarray =  array[:2,:2]\n",
        "subarray"
      ]
    },
    {
      "cell_type": "markdown",
      "metadata": {
        "id": "8MiRE4jPEKih"
      },
      "source": [
        "## 19) Create a random 4x4 matrix and use NumPy to compute its eigenvalues and eigenvectors. Verify the eigenvalues by reconstructing the matrix.\n"
      ]
    },
    {
      "cell_type": "code",
      "execution_count": null,
      "metadata": {
        "colab": {
          "base_uri": "https://localhost:8080/"
        },
        "id": "xPfq8-TaANPJ",
        "outputId": "cf83c5df-360a-4585-9ad8-5a7f31ee9371"
      },
      "outputs": [
        {
          "data": {
            "text/plain": [
              "array([[ 6,  7,  3,  4],\n",
              "       [ 2,  9,  6, 10],\n",
              "       [ 5,  0,  0,  0],\n",
              "       [ 9, 14,  9,  6]])"
            ]
          },
          "execution_count": 5,
          "metadata": {},
          "output_type": "execute_result"
        }
      ],
      "source": [
        "import numpy as np\n",
        "array_2d = np.random.randint(0, 17, size=(4, 4))\n",
        "array_2d"
      ]
    },
    {
      "cell_type": "markdown",
      "metadata": {
        "id": "FcFwDlFyEmhA"
      },
      "source": [
        "## 20) Create a 1D array of 27 elements and reshape it into a 3x3x3 3D array. Flatten it back into a 1D array and compare the flattened array with the original.\n"
      ]
    },
    {
      "cell_type": "code",
      "execution_count": null,
      "metadata": {
        "colab": {
          "base_uri": "https://localhost:8080/"
        },
        "id": "ANhm8m2XEsyA",
        "outputId": "64355be8-8207-4c67-afd5-f1eb0e447b2c"
      },
      "outputs": [
        {
          "name": "stdout",
          "output_type": "stream",
          "text": [
            "[ 0  1  2  3  4  5  6  7  8  9 10 11 12 13 14 15 16 17 18 19 20 21 22 23\n",
            " 24 25 26]\n",
            "[[[ 0  1  2]\n",
            "  [ 3  4  5]\n",
            "  [ 6  7  8]]\n",
            "\n",
            " [[ 9 10 11]\n",
            "  [12 13 14]\n",
            "  [15 16 17]]\n",
            "\n",
            " [[18 19 20]\n",
            "  [21 22 23]\n",
            "  [24 25 26]]]\n"
          ]
        },
        {
          "data": {
            "text/plain": [
              "array([ 0,  1,  2,  3,  4,  5,  6,  7,  8,  9, 10, 11, 12, 13, 14, 15, 16,\n",
              "       17, 18, 19, 20, 21, 22, 23, 24, 25, 26])"
            ]
          },
          "execution_count": 11,
          "metadata": {},
          "output_type": "execute_result"
        }
      ],
      "source": [
        "one_d_array = np.arange(0,27)\n",
        "print(one_d_array)\n",
        "\n",
        "d = one_d_array.reshape(3,3,3)\n",
        "print(d)\n",
        "\n",
        "d= d.flatten()\n",
        "d"
      ]
    },
    {
      "cell_type": "markdown",
      "metadata": {
        "id": "TKCpR5sNFUpS"
      },
      "source": [
        "## 21) : Perform matrix multiplication of two 2D arrays using np.dot () and @. Compare the results and performance of both methods using a large dataset.\n"
      ]
    },
    {
      "cell_type": "code",
      "execution_count": null,
      "metadata": {
        "colab": {
          "base_uri": "https://localhost:8080/"
        },
        "id": "vOgpb7xyFdeQ",
        "outputId": "c5af320b-2569-4bea-c0d3-d790fc13bc9d"
      },
      "outputs": [
        {
          "name": "stdout",
          "output_type": "stream",
          "text": [
            "[[0 1]\n",
            " [2 3]]\n",
            "\n",
            "[[5 6]\n",
            " [7 8]]\n",
            "\n",
            "[[ 7  8]\n",
            " [31 36]]\n"
          ]
        },
        {
          "data": {
            "text/plain": [
              "array([[ 7,  8],\n",
              "       [31, 36]])"
            ]
          },
          "execution_count": 16,
          "metadata": {},
          "output_type": "execute_result"
        }
      ],
      "source": [
        "a = np.arange(4).reshape(2,2)\n",
        "b = np.arange(5,9).reshape(2,2)\n",
        "\n",
        "print(a)\n",
        "print()\n",
        "print(b)\n",
        "print()\n",
        "c = np.dot(a,b)\n",
        "print(c)\n",
        "\n",
        "d=a@b\n",
        "d\n",
        "\n"
      ]
    },
    {
      "cell_type": "markdown",
      "metadata": {
        "id": "1GDWhWVLIH4I"
      },
      "source": [
        "## 22) Create a 3D array of shape (2, 1, 4) and a 2D array of shape (4,1). Perform an element-wise operation using broadcasting and explain the result. Use np. new axis to achieve the same result without broadcasting."
      ]
    },
    {
      "cell_type": "code",
      "execution_count": null,
      "metadata": {
        "colab": {
          "base_uri": "https://localhost:8080/"
        },
        "id": "JvxXjFt9G3QW",
        "outputId": "7c82e49e-e36a-407e-f5f5-6f146833aa57"
      },
      "outputs": [
        {
          "name": "stdout",
          "output_type": "stream",
          "text": [
            "3D Array (2,1,4):\n",
            " [[[1 2 3 4]]\n",
            "\n",
            " [[5 6 7 8]]]\n",
            "\n",
            "2D Array (4,1):\n",
            " [[10]\n",
            " [20]\n",
            " [30]\n",
            " [40]]\n",
            "\n",
            "Result using Broadcasting:\n",
            " [[[11 22 33 44]]\n",
            "\n",
            " [[15 26 37 48]]]\n",
            "\n",
            "Result using np.newaxis:\n",
            " [[[11 22 33 44]]\n",
            "\n",
            " [[15 26 37 48]]]\n"
          ]
        }
      ],
      "source": [
        "import numpy as np\n",
        "\n",
        "\n",
        "array_3d = np.array([[[1, 2, 3, 4]],\n",
        "                      [[5, 6, 7, 8]]])\n",
        "\n",
        "\n",
        "array_2d = np.array([[10],\n",
        "                      [20],\n",
        "                      [30],\n",
        "                      [40]])\n",
        "result_broadcasting = array_3d + array_2d.T\n",
        "\n",
        "\n",
        "array_2d_reshaped = array_2d.T[:, np.newaxis, :]\n",
        "result_no_broadcasting = array_3d + array_2d_reshaped\n",
        "\n",
        "\n",
        "print(\"3D Array (2,1,4):\\n\", array_3d)\n",
        "print(\"\\n2D Array (4,1):\\n\", array_2d)\n",
        "\n",
        "print(\"\\nResult using Broadcasting:\\n\", result_broadcasting)\n",
        "print(\"\\nResult using np.newaxis:\\n\", result_no_broadcasting)\n"
      ]
    },
    {
      "cell_type": "markdown",
      "metadata": {
        "id": "AMZfYzhkPMNT"
      },
      "source": [
        "## 23) Generate a 2D array of random floats between 0 and 1. Use conditional operators to create a Boolean mask for values less than 0.5. Replace these values with their squares and leave the rest unchanged."
      ]
    },
    {
      "cell_type": "code",
      "execution_count": null,
      "metadata": {
        "colab": {
          "base_uri": "https://localhost:8080/"
        },
        "id": "3Wa8LmdNPQ4W",
        "outputId": "6cdf401c-cc8f-4e68-d29d-eb35894666d1"
      },
      "outputs": [
        {
          "name": "stdout",
          "output_type": "stream",
          "text": [
            "[[0.2357541  0.59391649 0.98764306]\n",
            " [0.37573002 0.06453595 0.24840824]\n",
            " [0.36494015 0.32746714 0.62051595]]\n",
            "\n",
            "[[ True False False]\n",
            " [ True  True  True]\n",
            " [ True  True False]]\n",
            "\n",
            "[[0.25       0.59391649 0.98764306]\n",
            " [0.25       0.25       0.25      ]\n",
            " [0.25       0.25       0.62051595]]\n"
          ]
        }
      ],
      "source": [
        "a = np.random.rand(9).reshape(3,3)\n",
        "print(a)\n",
        "\n",
        "print()\n",
        "\n",
        "b = a <0.5\n",
        "print(b)\n",
        "print()\n",
        "\n",
        "\n",
        "a[b] = 0.5*0.5\n",
        "print(a)\n",
        "\n"
      ]
    },
    {
      "cell_type": "markdown",
      "metadata": {
        "id": "CCk4e_ptQoVh"
      },
      "source": [
        "## 24) : Given a 5x5 array of sequential integers, use slicing to:\n",
        "### Extract the diagonal elements\n",
        "### Replace the elements of the middle row with zeros\n",
        "### Flip the array vertically and horizontally\n"
      ]
    },
    {
      "cell_type": "code",
      "execution_count": null,
      "metadata": {
        "colab": {
          "base_uri": "https://localhost:8080/"
        },
        "id": "WHJb0O9iP9uc",
        "outputId": "a6904a71-d0ae-4a9a-f7f9-d245c2ddbb3e"
      },
      "outputs": [
        {
          "name": "stdout",
          "output_type": "stream",
          "text": [
            "[[ 1  2  3  4  5]\n",
            " [ 6  7  8  9 10]\n",
            " [11 12 13 14 15]\n",
            " [16 17 18 19 20]\n",
            " [21 22 23 24 25]]\n",
            "\n",
            "[ 1  7 13 19 25]\n",
            "\n",
            "[[ 1  2  3  4  5]\n",
            " [ 6  7  8  9 10]\n",
            " [ 0  0  0  0  0]\n",
            " [16 17 18 19 20]\n",
            " [21 22 23 24 25]]\n",
            "\n",
            "[[21 22 23 24 25]\n",
            " [16 17 18 19 20]\n",
            " [ 0  0  0  0  0]\n",
            " [ 6  7  8  9 10]\n",
            " [ 1  2  3  4  5]]\n",
            "\n",
            "[[ 5  4  3  2  1]\n",
            " [10  9  8  7  6]\n",
            " [ 0  0  0  0  0]\n",
            " [20 19 18 17 16]\n",
            " [25 24 23 22 21]]\n"
          ]
        }
      ],
      "source": [
        "a = np.arange(1,26).reshape(5,5)\n",
        "print(a)\n",
        "print()\n",
        "#1np\n",
        "print(a[range(5),range(5)])\n",
        "print()\n",
        "#2\n",
        "a[2:3,:] = 0\n",
        "print(a)\n",
        "\n",
        "#3\n",
        "print()\n",
        "print(a[::-1,:])\n",
        "print()\n",
        "print(a[:,::-1])"
      ]
    },
    {
      "cell_type": "code",
      "execution_count": null,
      "metadata": {
        "id": "cgITgrK8SwP7"
      },
      "outputs": [],
      "source": []
    },
    {
      "cell_type": "markdown",
      "metadata": {
        "id": "a68_UZ0mY7Gu"
      },
      "source": [
        "## 25) : Create a 4D array of shape (2, 3, 4, 5) with random integers. Use advanced slicing to extract a subarray and compute the mean along a specified axis.\n"
      ]
    },
    {
      "cell_type": "code",
      "execution_count": null,
      "metadata": {
        "colab": {
          "base_uri": "https://localhost:8080/"
        },
        "id": "phLuo_ErZaNo",
        "outputId": "2abe97c3-74ed-4792-e59c-30ae5f7cb697"
      },
      "outputs": [
        {
          "name": "stdout",
          "output_type": "stream",
          "text": [
            "4D Array of Shape (2, 3, 4, 5) with Random Integers:\n",
            " [[[[ 1 66 36  6 91]\n",
            "   [85  2  5 81 60]\n",
            "   [10 85 57 44 11]\n",
            "   [30 73 12 70 61]]\n",
            "\n",
            "  [[39 64 89 83  6]\n",
            "   [22 23 24 75 73]\n",
            "   [91 62 21 24 77]\n",
            "   [86 47 85 65 14]]\n",
            "\n",
            "  [[63 97 35 49 64]\n",
            "   [36 64 12 17 79]\n",
            "   [89 10 55 31 87]\n",
            "   [71  2 65 17 24]]]\n",
            "\n",
            "\n",
            " [[[ 3  5  0 18 27]\n",
            "   [79 48 24 50 28]\n",
            "   [35 20 45 41 81]\n",
            "   [96 44 30  2 96]]\n",
            "\n",
            "  [[68 63 62 90 62]\n",
            "   [18 84 40 48 19]\n",
            "   [47 95 48 61 93]\n",
            "   [75 97 64 43 33]]\n",
            "\n",
            "  [[86 47  6 64 73]\n",
            "   [64  8 46 20 62]\n",
            "   [29 59 61 47 38]\n",
            "   [74 84 52 97 27]]]]\n",
            "\n",
            " [[[39 64 89 83  6]\n",
            "  [22 23 24 75 73]]\n",
            "\n",
            " [[63 97 35 49 64]\n",
            "  [36 64 12 17 79]]]\n",
            "\n",
            " [[56.2 43.4]\n",
            " [61.6 41.6]]\n"
          ]
        }
      ],
      "source": [
        "a = np.random.randint(0, 100, size=(2, 3, 4, 5))\n",
        "\n",
        "print(\"4D Array of Shape (2, 3, 4, 5) with Random Integers:\\n\", a)\n",
        "\n",
        "subarray = a[0, 1:3, 0:2, :]\n",
        "print(\"\\n\",subarray)\n",
        "\n",
        "mean_result = np.mean(subarray, axis=2)\n",
        "print(\"\\n\",mean_result)"
      ]
    },
    {
      "cell_type": "markdown",
      "metadata": {
        "id": "cWL0g-F5dQCH"
      },
      "source": [
        "## 26) Given an array of shape (10, 20), reshape it to (20, 10) and (5,40). Discuss the impact on the array's shape, size, and dimensionality.\n"
      ]
    },
    {
      "cell_type": "code",
      "execution_count": null,
      "metadata": {
        "colab": {
          "base_uri": "https://localhost:8080/"
        },
        "id": "pBTaD3boaA8D",
        "outputId": "39d53a10-81c7-44d4-8046-84e7f5300a1d"
      },
      "outputs": [
        {
          "data": {
            "text/plain": [
              "array([[  0,   1,   2,   3,   4,   5,   6,   7,   8,   9,  10,  11,  12,\n",
              "         13,  14,  15,  16,  17,  18,  19,  20,  21,  22,  23,  24,  25,\n",
              "         26,  27,  28,  29,  30,  31,  32,  33,  34,  35,  36,  37,  38,\n",
              "         39],\n",
              "       [ 40,  41,  42,  43,  44,  45,  46,  47,  48,  49,  50,  51,  52,\n",
              "         53,  54,  55,  56,  57,  58,  59,  60,  61,  62,  63,  64,  65,\n",
              "         66,  67,  68,  69,  70,  71,  72,  73,  74,  75,  76,  77,  78,\n",
              "         79],\n",
              "       [ 80,  81,  82,  83,  84,  85,  86,  87,  88,  89,  90,  91,  92,\n",
              "         93,  94,  95,  96,  97,  98,  99, 100, 101, 102, 103, 104, 105,\n",
              "        106, 107, 108, 109, 110, 111, 112, 113, 114, 115, 116, 117, 118,\n",
              "        119],\n",
              "       [120, 121, 122, 123, 124, 125, 126, 127, 128, 129, 130, 131, 132,\n",
              "        133, 134, 135, 136, 137, 138, 139, 140, 141, 142, 143, 144, 145,\n",
              "        146, 147, 148, 149, 150, 151, 152, 153, 154, 155, 156, 157, 158,\n",
              "        159],\n",
              "       [160, 161, 162, 163, 164, 165, 166, 167, 168, 169, 170, 171, 172,\n",
              "        173, 174, 175, 176, 177, 178, 179, 180, 181, 182, 183, 184, 185,\n",
              "        186, 187, 188, 189, 190, 191, 192, 193, 194, 195, 196, 197, 198,\n",
              "        199]])"
            ]
          },
          "execution_count": 68,
          "metadata": {},
          "output_type": "execute_result"
        }
      ],
      "source": [
        "a = np.arange(200).reshape(10,20)\n",
        "a\n",
        "\n",
        "a2 = a.reshape(20,10)\n",
        "a2\n",
        "\n",
        "a3 = a.reshape(5,40)\n",
        "a3"
      ]
    },
    {
      "cell_type": "markdown",
      "metadata": {
        "id": "dqNKgk2reHVG"
      },
      "source": [
        "## 27) Generate a large 2D array and demonstrate the use of np. reshape () and unravel () to manipulate its shape for various linear algebra operations.\n"
      ]
    },
    {
      "cell_type": "code",
      "execution_count": null,
      "metadata": {
        "colab": {
          "base_uri": "https://localhost:8080/"
        },
        "id": "8v0uY1NJeLQe",
        "outputId": "0982daa0-e169-4fdb-c41d-ae4c75990ecf"
      },
      "outputs": [
        {
          "data": {
            "text/plain": [
              "array([0, 1, 2, 3])"
            ]
          },
          "execution_count": 10,
          "metadata": {},
          "output_type": "execute_result"
        }
      ],
      "source": [
        "import numpy as np\n",
        "\n",
        "a = np.arange(4).reshape(2,2)\n",
        "a\n",
        "\n",
        "a.ravel()"
      ]
    },
    {
      "cell_type": "markdown",
      "metadata": {
        "id": "lTXC5-gpi5Ek"
      },
      "source": [
        "## 28)  Given a 6x6 matrix, use advanced indexing and slicing to extract the upper triangular part of the matrix and set the lower triangular part to zero.Verify the result."
      ]
    },
    {
      "cell_type": "code",
      "execution_count": 14,
      "metadata": {
        "colab": {
          "base_uri": "https://localhost:8080/"
        },
        "id": "eFHIMBTfi957",
        "outputId": "bca6e6ee-ce62-48ed-b810-6bf945d2d27d"
      },
      "outputs": [
        {
          "output_type": "execute_result",
          "data": {
            "text/plain": [
              "array([[30, 12, 27,  7, 21, 16],\n",
              "       [ 0, 25, 24, 13,  3, 14],\n",
              "       [ 0,  0, 26,  6,  8,  3],\n",
              "       [ 0,  0,  0, 32, 13, 13],\n",
              "       [ 0,  0,  0,  0, 24,  9],\n",
              "       [ 0,  0,  0,  0,  0,  8]])"
            ]
          },
          "metadata": {},
          "execution_count": 14
        }
      ],
      "source": [
        "a = np.random.randint(36,size=(6,6))\n",
        "\n",
        "for i in range(1, 6):\n",
        "    a[i, :i] = 0\n",
        "\n",
        "a\n"
      ]
    }
  ],
  "metadata": {
    "colab": {
      "collapsed_sections": [
        "_v962OnPuN4X",
        "IkVwdxDovMni",
        "v-zrrCBkxTsP",
        "p0sCLPEly851",
        "sxWBxNERzwHu",
        "2RdQEwle0YcV",
        "8-RN1FbS1K35",
        "uhQ7_rqS16nQ",
        "WUVDVG2L2maP",
        "L0LPVuPu3b7P",
        "KbLe3s7C4RH1",
        "zqzI4BT76ntF",
        "dGF2pbRi8pnF",
        "SiEs6xuL9rko",
        "I8A554rKAhkf",
        "fh5VdnUm_2vp",
        "8MiRE4jPEKih",
        "FcFwDlFyEmhA",
        "TKCpR5sNFUpS",
        "1GDWhWVLIH4I",
        "AMZfYzhkPMNT",
        "CCk4e_ptQoVh",
        "a68_UZ0mY7Gu",
        "cWL0g-F5dQCH",
        "dqNKgk2reHVG",
        "lTXC5-gpi5Ek"
      ],
      "provenance": []
    },
    "kernelspec": {
      "display_name": "Python 3",
      "name": "python3"
    },
    "language_info": {
      "name": "python"
    }
  },
  "nbformat": 4,
  "nbformat_minor": 0
}